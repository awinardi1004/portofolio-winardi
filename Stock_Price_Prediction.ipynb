{
 "cells": [
  {
   "cell_type": "markdown",
   "id": "0ffeb760-fb52-43d1-a02c-314be730525b",
   "metadata": {},
   "source": [
    "# Import Librarie"
   ]
  },
  {
   "cell_type": "code",
   "execution_count": 11,
   "id": "8a075f75-4cb6-4de3-bf58-8ec3597296c3",
   "metadata": {},
   "outputs": [],
   "source": [
    "import pandas as pd\n",
    "import matplotlib.pyplot as plt\n",
    "import datetime\n",
    "import numpy as np\n",
    "from sklearn.preprocessing import MinMaxScaler\n",
    "from tensorflow.keras.models import Sequential\n",
    "from tensorflow.keras.layers import LSTM, Dense\n",
    "import math"
   ]
  },
  {
   "cell_type": "markdown",
   "id": "efce4bfa-a5b3-4d4e-a7f5-eebb7e72f0ba",
   "metadata": {},
   "source": [
    "# EDA"
   ]
  },
  {
   "cell_type": "code",
   "execution_count": 12,
   "id": "5e13d5c7-ccc8-43d7-85b9-07b54aab7277",
   "metadata": {},
   "outputs": [],
   "source": [
    "def prediction_plot(test, predicted):\n",
    "    plt.plot(test, label='Actual')\n",
    "    plt.plot(predicted, label='Predicted')\n",
    "    plt.legend()\n",
    "    plt.xlabel('Index')\n",
    "    plt.ylabel('Value')\n",
    "    plt.title('Prediction vs Actual')\n",
    "    plt.show()\n",
    "    \n",
    "def rmse_eval(test, predicted):\n",
    "    mse = np.mean((predicted - test)**2)\n",
    "    rmse = np.sqrt(mse)\n",
    "    return rmse"
   ]
  },
  {
   "cell_type": "code",
   "execution_count": 13,
   "id": "25abee88-f7b8-4880-b4b7-ec51765a3c2c",
   "metadata": {},
   "outputs": [
    {
     "data": {
      "text/html": [
       "<div>\n",
       "<style scoped>\n",
       "    .dataframe tbody tr th:only-of-type {\n",
       "        vertical-align: middle;\n",
       "    }\n",
       "\n",
       "    .dataframe tbody tr th {\n",
       "        vertical-align: top;\n",
       "    }\n",
       "\n",
       "    .dataframe thead th {\n",
       "        text-align: right;\n",
       "    }\n",
       "</style>\n",
       "<table border=\"1\" class=\"dataframe\">\n",
       "  <thead>\n",
       "    <tr style=\"text-align: right;\">\n",
       "      <th></th>\n",
       "      <th>Date</th>\n",
       "      <th>Open</th>\n",
       "      <th>High</th>\n",
       "      <th>Low</th>\n",
       "      <th>Close</th>\n",
       "      <th>Volume</th>\n",
       "      <th>Name</th>\n",
       "    </tr>\n",
       "  </thead>\n",
       "  <tbody>\n",
       "    <tr>\n",
       "      <th>0</th>\n",
       "      <td>2006-01-03</td>\n",
       "      <td>77.76</td>\n",
       "      <td>79.35</td>\n",
       "      <td>77.24</td>\n",
       "      <td>79.11</td>\n",
       "      <td>3117200</td>\n",
       "      <td>MMM</td>\n",
       "    </tr>\n",
       "    <tr>\n",
       "      <th>1</th>\n",
       "      <td>2006-01-04</td>\n",
       "      <td>79.49</td>\n",
       "      <td>79.49</td>\n",
       "      <td>78.25</td>\n",
       "      <td>78.71</td>\n",
       "      <td>2558000</td>\n",
       "      <td>MMM</td>\n",
       "    </tr>\n",
       "    <tr>\n",
       "      <th>2</th>\n",
       "      <td>2006-01-05</td>\n",
       "      <td>78.41</td>\n",
       "      <td>78.65</td>\n",
       "      <td>77.56</td>\n",
       "      <td>77.99</td>\n",
       "      <td>2529500</td>\n",
       "      <td>MMM</td>\n",
       "    </tr>\n",
       "    <tr>\n",
       "      <th>3</th>\n",
       "      <td>2006-01-06</td>\n",
       "      <td>78.64</td>\n",
       "      <td>78.90</td>\n",
       "      <td>77.64</td>\n",
       "      <td>78.63</td>\n",
       "      <td>2479500</td>\n",
       "      <td>MMM</td>\n",
       "    </tr>\n",
       "    <tr>\n",
       "      <th>4</th>\n",
       "      <td>2006-01-09</td>\n",
       "      <td>78.50</td>\n",
       "      <td>79.83</td>\n",
       "      <td>78.46</td>\n",
       "      <td>79.02</td>\n",
       "      <td>1845600</td>\n",
       "      <td>MMM</td>\n",
       "    </tr>\n",
       "    <tr>\n",
       "      <th>...</th>\n",
       "      <td>...</td>\n",
       "      <td>...</td>\n",
       "      <td>...</td>\n",
       "      <td>...</td>\n",
       "      <td>...</td>\n",
       "      <td>...</td>\n",
       "      <td>...</td>\n",
       "    </tr>\n",
       "    <tr>\n",
       "      <th>3015</th>\n",
       "      <td>2017-12-22</td>\n",
       "      <td>235.36</td>\n",
       "      <td>236.08</td>\n",
       "      <td>234.28</td>\n",
       "      <td>234.73</td>\n",
       "      <td>1280557</td>\n",
       "      <td>MMM</td>\n",
       "    </tr>\n",
       "    <tr>\n",
       "      <th>3016</th>\n",
       "      <td>2017-12-26</td>\n",
       "      <td>235.08</td>\n",
       "      <td>236.28</td>\n",
       "      <td>235.03</td>\n",
       "      <td>235.45</td>\n",
       "      <td>789090</td>\n",
       "      <td>MMM</td>\n",
       "    </tr>\n",
       "    <tr>\n",
       "      <th>3017</th>\n",
       "      <td>2017-12-27</td>\n",
       "      <td>235.52</td>\n",
       "      <td>236.54</td>\n",
       "      <td>234.84</td>\n",
       "      <td>236.20</td>\n",
       "      <td>970508</td>\n",
       "      <td>MMM</td>\n",
       "    </tr>\n",
       "    <tr>\n",
       "      <th>3018</th>\n",
       "      <td>2017-12-28</td>\n",
       "      <td>236.94</td>\n",
       "      <td>237.08</td>\n",
       "      <td>235.28</td>\n",
       "      <td>235.72</td>\n",
       "      <td>1189738</td>\n",
       "      <td>MMM</td>\n",
       "    </tr>\n",
       "    <tr>\n",
       "      <th>3019</th>\n",
       "      <td>2017-12-29</td>\n",
       "      <td>236.48</td>\n",
       "      <td>237.31</td>\n",
       "      <td>235.37</td>\n",
       "      <td>235.37</td>\n",
       "      <td>1343878</td>\n",
       "      <td>MMM</td>\n",
       "    </tr>\n",
       "  </tbody>\n",
       "</table>\n",
       "<p>3020 rows × 7 columns</p>\n",
       "</div>"
      ],
      "text/plain": [
       "            Date    Open    High     Low   Close   Volume Name\n",
       "0     2006-01-03   77.76   79.35   77.24   79.11  3117200  MMM\n",
       "1     2006-01-04   79.49   79.49   78.25   78.71  2558000  MMM\n",
       "2     2006-01-05   78.41   78.65   77.56   77.99  2529500  MMM\n",
       "3     2006-01-06   78.64   78.90   77.64   78.63  2479500  MMM\n",
       "4     2006-01-09   78.50   79.83   78.46   79.02  1845600  MMM\n",
       "...          ...     ...     ...     ...     ...      ...  ...\n",
       "3015  2017-12-22  235.36  236.08  234.28  234.73  1280557  MMM\n",
       "3016  2017-12-26  235.08  236.28  235.03  235.45   789090  MMM\n",
       "3017  2017-12-27  235.52  236.54  234.84  236.20   970508  MMM\n",
       "3018  2017-12-28  236.94  237.08  235.28  235.72  1189738  MMM\n",
       "3019  2017-12-29  236.48  237.31  235.37  235.37  1343878  MMM\n",
       "\n",
       "[3020 rows x 7 columns]"
      ]
     },
     "execution_count": 13,
     "metadata": {},
     "output_type": "execute_result"
    }
   ],
   "source": [
    "dataset = pd.read_csv('MMM_2006-01-01_to_2018-01-01.csv')\n",
    "dataset"
   ]
  },
  {
   "cell_type": "code",
   "execution_count": 14,
   "id": "da0c5cd1-4419-4b91-abb6-3945ca9bfd74",
   "metadata": {},
   "outputs": [],
   "source": [
    "dataset = dataset.drop('Name', axis=1)"
   ]
  },
  {
   "cell_type": "code",
   "execution_count": 15,
   "id": "9416852e-0e72-420f-ac9c-f295ccf0db2f",
   "metadata": {},
   "outputs": [
    {
     "data": {
      "text/plain": [
       "Date      0\n",
       "Open      1\n",
       "High      0\n",
       "Low       1\n",
       "Close     0\n",
       "Volume    0\n",
       "dtype: int64"
      ]
     },
     "execution_count": 15,
     "metadata": {},
     "output_type": "execute_result"
    }
   ],
   "source": [
    "dataset.isnull().sum()"
   ]
  },
  {
   "cell_type": "code",
   "execution_count": 16,
   "id": "e036a34f-1d1b-48d9-aa42-f3cdfef59422",
   "metadata": {},
   "outputs": [],
   "source": [
    "dataset.dropna(inplace = True, axis = 0)"
   ]
  },
  {
   "cell_type": "code",
   "execution_count": 17,
   "id": "3e1bcc7b-33ea-4596-b699-205ce7e7c211",
   "metadata": {},
   "outputs": [
    {
     "name": "stdout",
     "output_type": "stream",
     "text": [
      "<class 'pandas.core.frame.DataFrame'>\n",
      "Int64Index: 3019 entries, 0 to 3019\n",
      "Data columns (total 6 columns):\n",
      " #   Column  Non-Null Count  Dtype  \n",
      "---  ------  --------------  -----  \n",
      " 0   Date    3019 non-null   object \n",
      " 1   Open    3019 non-null   float64\n",
      " 2   High    3019 non-null   float64\n",
      " 3   Low     3019 non-null   float64\n",
      " 4   Close   3019 non-null   float64\n",
      " 5   Volume  3019 non-null   int64  \n",
      "dtypes: float64(4), int64(1), object(1)\n",
      "memory usage: 165.1+ KB\n"
     ]
    }
   ],
   "source": [
    "dataset.info()"
   ]
  },
  {
   "cell_type": "code",
   "execution_count": 18,
   "id": "4a7231cb-6e6e-46fe-b2d3-6faf09976896",
   "metadata": {},
   "outputs": [
    {
     "data": {
      "text/html": [
       "<div>\n",
       "<style scoped>\n",
       "    .dataframe tbody tr th:only-of-type {\n",
       "        vertical-align: middle;\n",
       "    }\n",
       "\n",
       "    .dataframe tbody tr th {\n",
       "        vertical-align: top;\n",
       "    }\n",
       "\n",
       "    .dataframe thead th {\n",
       "        text-align: right;\n",
       "    }\n",
       "</style>\n",
       "<table border=\"1\" class=\"dataframe\">\n",
       "  <thead>\n",
       "    <tr style=\"text-align: right;\">\n",
       "      <th></th>\n",
       "      <th>Open</th>\n",
       "      <th>High</th>\n",
       "      <th>Low</th>\n",
       "      <th>Close</th>\n",
       "      <th>Volume</th>\n",
       "    </tr>\n",
       "  </thead>\n",
       "  <tbody>\n",
       "    <tr>\n",
       "      <th>count</th>\n",
       "      <td>3019.000000</td>\n",
       "      <td>3019.000000</td>\n",
       "      <td>3019.000000</td>\n",
       "      <td>3019.000000</td>\n",
       "      <td>3.019000e+03</td>\n",
       "    </tr>\n",
       "    <tr>\n",
       "      <th>mean</th>\n",
       "      <td>111.776588</td>\n",
       "      <td>112.586237</td>\n",
       "      <td>110.986366</td>\n",
       "      <td>111.832262</td>\n",
       "      <td>3.342832e+06</td>\n",
       "    </tr>\n",
       "    <tr>\n",
       "      <th>std</th>\n",
       "      <td>44.430095</td>\n",
       "      <td>44.544845</td>\n",
       "      <td>44.348715</td>\n",
       "      <td>44.471353</td>\n",
       "      <td>1.901496e+06</td>\n",
       "    </tr>\n",
       "    <tr>\n",
       "      <th>min</th>\n",
       "      <td>41.310000</td>\n",
       "      <td>42.450000</td>\n",
       "      <td>40.870000</td>\n",
       "      <td>41.830000</td>\n",
       "      <td>8.708300e+04</td>\n",
       "    </tr>\n",
       "    <tr>\n",
       "      <th>25%</th>\n",
       "      <td>79.235000</td>\n",
       "      <td>79.810000</td>\n",
       "      <td>78.335000</td>\n",
       "      <td>79.115000</td>\n",
       "      <td>2.100758e+06</td>\n",
       "    </tr>\n",
       "    <tr>\n",
       "      <th>50%</th>\n",
       "      <td>89.670000</td>\n",
       "      <td>90.330000</td>\n",
       "      <td>88.860000</td>\n",
       "      <td>89.740000</td>\n",
       "      <td>2.857305e+06</td>\n",
       "    </tr>\n",
       "    <tr>\n",
       "      <th>75%</th>\n",
       "      <td>145.845000</td>\n",
       "      <td>147.525000</td>\n",
       "      <td>145.250000</td>\n",
       "      <td>146.245000</td>\n",
       "      <td>3.982865e+06</td>\n",
       "    </tr>\n",
       "    <tr>\n",
       "      <th>max</th>\n",
       "      <td>243.190000</td>\n",
       "      <td>244.230000</td>\n",
       "      <td>239.150000</td>\n",
       "      <td>243.140000</td>\n",
       "      <td>2.436050e+07</td>\n",
       "    </tr>\n",
       "  </tbody>\n",
       "</table>\n",
       "</div>"
      ],
      "text/plain": [
       "              Open         High          Low        Close        Volume\n",
       "count  3019.000000  3019.000000  3019.000000  3019.000000  3.019000e+03\n",
       "mean    111.776588   112.586237   110.986366   111.832262  3.342832e+06\n",
       "std      44.430095    44.544845    44.348715    44.471353  1.901496e+06\n",
       "min      41.310000    42.450000    40.870000    41.830000  8.708300e+04\n",
       "25%      79.235000    79.810000    78.335000    79.115000  2.100758e+06\n",
       "50%      89.670000    90.330000    88.860000    89.740000  2.857305e+06\n",
       "75%     145.845000   147.525000   145.250000   146.245000  3.982865e+06\n",
       "max     243.190000   244.230000   239.150000   243.140000  2.436050e+07"
      ]
     },
     "execution_count": 18,
     "metadata": {},
     "output_type": "execute_result"
    }
   ],
   "source": [
    "dataset.describe()"
   ]
  },
  {
   "cell_type": "code",
   "execution_count": 19,
   "id": "e8549c8f-523e-4160-84d9-667e02f5367d",
   "metadata": {},
   "outputs": [],
   "source": [
    "dataset = dataset[['Date', 'Close']]"
   ]
  },
  {
   "cell_type": "code",
   "execution_count": 20,
   "id": "86c67a18-3785-4371-9d92-f24fb0cb441a",
   "metadata": {},
   "outputs": [
    {
     "data": {
      "text/plain": [
       "0      2006-01-03\n",
       "1      2006-01-04\n",
       "2      2006-01-05\n",
       "3      2006-01-06\n",
       "4      2006-01-09\n",
       "          ...    \n",
       "3015   2017-12-22\n",
       "3016   2017-12-26\n",
       "3017   2017-12-27\n",
       "3018   2017-12-28\n",
       "3019   2017-12-29\n",
       "Name: Date, Length: 3019, dtype: datetime64[ns]"
      ]
     },
     "execution_count": 20,
     "metadata": {},
     "output_type": "execute_result"
    }
   ],
   "source": [
    "# Change colums Date type from objact to date\n",
    " \n",
    "def str_to_datetime(s):\n",
    "  split = s.split('-')\n",
    "  year, month, day = int(split[0]), int(split[1]), int(split[2])\n",
    "  return datetime.datetime(year=year, month=month, day=day)\n",
    "\n",
    "dataset['Date'] = dataset['Date'].apply(str_to_datetime)\n",
    "dataset['Date']"
   ]
  },
  {
   "cell_type": "code",
   "execution_count": 21,
   "id": "ab5d49db-225b-4489-bc67-fa459d55f4e0",
   "metadata": {},
   "outputs": [
    {
     "data": {
      "text/html": [
       "<div>\n",
       "<style scoped>\n",
       "    .dataframe tbody tr th:only-of-type {\n",
       "        vertical-align: middle;\n",
       "    }\n",
       "\n",
       "    .dataframe tbody tr th {\n",
       "        vertical-align: top;\n",
       "    }\n",
       "\n",
       "    .dataframe thead th {\n",
       "        text-align: right;\n",
       "    }\n",
       "</style>\n",
       "<table border=\"1\" class=\"dataframe\">\n",
       "  <thead>\n",
       "    <tr style=\"text-align: right;\">\n",
       "      <th></th>\n",
       "      <th>Close</th>\n",
       "    </tr>\n",
       "    <tr>\n",
       "      <th>Date</th>\n",
       "      <th></th>\n",
       "    </tr>\n",
       "  </thead>\n",
       "  <tbody>\n",
       "    <tr>\n",
       "      <th>2006-01-03</th>\n",
       "      <td>79.11</td>\n",
       "    </tr>\n",
       "    <tr>\n",
       "      <th>2006-01-04</th>\n",
       "      <td>78.71</td>\n",
       "    </tr>\n",
       "    <tr>\n",
       "      <th>2006-01-05</th>\n",
       "      <td>77.99</td>\n",
       "    </tr>\n",
       "    <tr>\n",
       "      <th>2006-01-06</th>\n",
       "      <td>78.63</td>\n",
       "    </tr>\n",
       "    <tr>\n",
       "      <th>2006-01-09</th>\n",
       "      <td>79.02</td>\n",
       "    </tr>\n",
       "    <tr>\n",
       "      <th>...</th>\n",
       "      <td>...</td>\n",
       "    </tr>\n",
       "    <tr>\n",
       "      <th>2017-12-22</th>\n",
       "      <td>234.73</td>\n",
       "    </tr>\n",
       "    <tr>\n",
       "      <th>2017-12-26</th>\n",
       "      <td>235.45</td>\n",
       "    </tr>\n",
       "    <tr>\n",
       "      <th>2017-12-27</th>\n",
       "      <td>236.20</td>\n",
       "    </tr>\n",
       "    <tr>\n",
       "      <th>2017-12-28</th>\n",
       "      <td>235.72</td>\n",
       "    </tr>\n",
       "    <tr>\n",
       "      <th>2017-12-29</th>\n",
       "      <td>235.37</td>\n",
       "    </tr>\n",
       "  </tbody>\n",
       "</table>\n",
       "<p>3019 rows × 1 columns</p>\n",
       "</div>"
      ],
      "text/plain": [
       "             Close\n",
       "Date              \n",
       "2006-01-03   79.11\n",
       "2006-01-04   78.71\n",
       "2006-01-05   77.99\n",
       "2006-01-06   78.63\n",
       "2006-01-09   79.02\n",
       "...            ...\n",
       "2017-12-22  234.73\n",
       "2017-12-26  235.45\n",
       "2017-12-27  236.20\n",
       "2017-12-28  235.72\n",
       "2017-12-29  235.37\n",
       "\n",
       "[3019 rows x 1 columns]"
      ]
     },
     "execution_count": 21,
     "metadata": {},
     "output_type": "execute_result"
    }
   ],
   "source": [
    "dataset.index = dataset.pop('Date')\n",
    "dataset"
   ]
  },
  {
   "cell_type": "markdown",
   "id": "b8db7a1c-3ed3-4d6a-8faf-b38b3e26e61c",
   "metadata": {},
   "source": [
    "* Berdasarkan pengecekan data yang dilakukan awalnya data tanggal bertipe objek, olej karena itu perlu mengubahnya ke datetime.\n",
    "* dataframe berisi data harga saham selama 12 tahun dari 2006 sampai 2017.\n",
    "* terdapat variabel yang tidak diperlukan yaitu tabel nama.\n",
    "* variabel yang menjadi target adalah close atau harga saham saat penutupan dihari tertentu."
   ]
  },
  {
   "cell_type": "code",
   "execution_count": 22,
   "id": "8816e5f5-9491-4768-8dea-3d725db57fcb",
   "metadata": {},
   "outputs": [
    {
     "data": {
      "text/plain": [
       "[<matplotlib.lines.Line2D at 0x1f1efde5270>]"
      ]
     },
     "execution_count": 22,
     "metadata": {},
     "output_type": "execute_result"
    },
    {
     "data": {
      "image/png": "[encoded data removed]",
      "text/plain": [
       "<Figure size 640x480 with 1 Axes>"
      ]
     },
     "metadata": {},
     "output_type": "display_data"
    }
   ],
   "source": [
    "plt.plot(dataset.index, dataset['Close'])"
   ]
  },
  {
   "cell_type": "code",
   "execution_count": 23,
   "id": "9b34f579-735d-4691-82c7-a8195cbd62aa",
   "metadata": {},
   "outputs": [],
   "source": [
    "# Normalisasi data ke dalam rentang 0-1\n",
    "scaler = MinMaxScaler(feature_range=(0, 1))\n",
    "data = scaler.fit_transform(dataset)"
   ]
  },
  {
   "cell_type": "code",
   "execution_count": 24,
   "id": "346aff16-b4e4-421a-8ae8-432958436a49",
   "metadata": {},
   "outputs": [],
   "source": [
    "# Membagi data menjadi data tain dan data test\n",
    "train_size = int(len(data) * 0.8)\n",
    "train_data = data[:train_size]\n",
    "test_data = data[train_size:]"
   ]
  },
  {
   "cell_type": "code",
   "execution_count": 25,
   "id": "a3d82f64-e9e7-41d0-9cad-e260d5c32c0e",
   "metadata": {},
   "outputs": [],
   "source": [
    "# Membuat fungsi untuk mengonversi data ke dalam format time series\n",
    "def create_time_series(data, lookback):\n",
    "    X, Y = [], []\n",
    "    for i in range(len(data)-lookback-1):\n",
    "        X.append(data[i:(i+lookback), 0])\n",
    "        Y.append(data[i+lookback, 0])\n",
    "    return np.array(X), np.array(Y)"
   ]
  },
  {
   "cell_type": "code",
   "execution_count": 26,
   "id": "983f5bf3-ec6e-4b4d-8f6b-fee8f1ee373e",
   "metadata": {},
   "outputs": [],
   "source": [
    "# Menentukan jumlah time steps (lookback) dan mengonversi data ke dalam format time series\n",
    "lookback = 20\n",
    "train_X, train_Y = create_time_series(train_data, lookback)\n",
    "test_X, test_Y = create_time_series(test_data, lookback)"
   ]
  },
  {
   "cell_type": "code",
   "execution_count": 27,
   "id": "20e0c0ce-67db-47f4-8e0b-952104e2e831",
   "metadata": {},
   "outputs": [],
   "source": [
    "# Reshape input menjadi bentuk yang dapat diterima oleh LSTM layer\n",
    "train_X = np.reshape(train_X, (train_X.shape[0], train_X.shape[1], 1))\n",
    "test_X = np.reshape(test_X, (test_X.shape[0], test_X.shape[1], 1))"
   ]
  },
  {
   "cell_type": "markdown",
   "id": "4c1a10d4-f53b-426d-960f-a0326991736f",
   "metadata": {},
   "source": [
    "## Modelling"
   ]
  },
  {
   "cell_type": "code",
   "execution_count": 28,
   "id": "343e87ea-5537-47e0-8792-29f601392a2c",
   "metadata": {},
   "outputs": [],
   "source": [
    "# Membangun model LSTM\n",
    "model = Sequential()\n",
    "model.add(LSTM(units=50, return_sequences=True, input_shape=(lookback, 1)))\n",
    "model.add(LSTM(units=50))\n",
    "model.add(Dense(units=1))\n",
    "model.compile(optimizer='adam', loss='mean_squared_error')\n"
   ]
  },
  {
   "cell_type": "code",
   "execution_count": 31,
   "id": "3a07af1e-d1ba-477a-b661-2a49aa89bc89",
   "metadata": {},
   "outputs": [
    {
     "name": "stdout",
     "output_type": "stream",
     "text": [
      "Epoch 1/50\n",
      "75/75 [==============================] - 10s 27ms/step - loss: 0.0080\n",
      "Epoch 2/50\n",
      "75/75 [==============================] - 2s 27ms/step - loss: 1.9152e-04\n",
      "Epoch 3/50\n",
      "75/75 [==============================] - 2s 27ms/step - loss: 1.8112e-04\n",
      "Epoch 4/50\n",
      "75/75 [==============================] - 2s 28ms/step - loss: 1.7384e-04\n",
      "Epoch 5/50\n",
      "75/75 [==============================] - 2s 32ms/step - loss: 1.6813e-04\n",
      "Epoch 6/50\n",
      "75/75 [==============================] - 2s 31ms/step - loss: 1.6311e-04\n",
      "Epoch 7/50\n",
      "75/75 [==============================] - 2s 31ms/step - loss: 1.5847e-04\n",
      "Epoch 8/50\n",
      "75/75 [==============================] - 3s 34ms/step - loss: 1.5281e-04\n",
      "Epoch 9/50\n",
      "75/75 [==============================] - 2s 29ms/step - loss: 1.5189e-04\n",
      "Epoch 10/50\n",
      "75/75 [==============================] - 2s 27ms/step - loss: 1.5052e-04\n",
      "Epoch 11/50\n",
      "75/75 [==============================] - 2s 29ms/step - loss: 1.4595e-04\n",
      "Epoch 12/50\n",
      "75/75 [==============================] - 2s 33ms/step - loss: 1.6222e-04\n",
      "Epoch 13/50\n",
      "75/75 [==============================] - 3s 46ms/step - loss: 1.3768e-04\n",
      "Epoch 14/50\n",
      "75/75 [==============================] - 3s 39ms/step - loss: 1.3596e-04\n",
      "Epoch 15/50\n",
      "75/75 [==============================] - 4s 48ms/step - loss: 1.3677e-04\n",
      "Epoch 16/50\n",
      "75/75 [==============================] - 2s 28ms/step - loss: 1.3588e-04\n",
      "Epoch 17/50\n",
      "75/75 [==============================] - 4s 47ms/step - loss: 1.3142e-04\n",
      "Epoch 18/50\n",
      "75/75 [==============================] - 3s 39ms/step - loss: 1.3043e-04\n",
      "Epoch 19/50\n",
      "75/75 [==============================] - 3s 44ms/step - loss: 1.2028e-04\n",
      "Epoch 20/50\n",
      "75/75 [==============================] - 4s 58ms/step - loss: 1.1080e-04\n",
      "Epoch 21/50\n",
      "75/75 [==============================] - 2s 31ms/step - loss: 1.2368e-04\n",
      "Epoch 22/50\n",
      "75/75 [==============================] - 4s 48ms/step - loss: 1.0860e-04\n",
      "Epoch 23/50\n",
      "75/75 [==============================] - 4s 52ms/step - loss: 1.1378e-04\n",
      "Epoch 24/50\n",
      "75/75 [==============================] - 3s 40ms/step - loss: 1.2762e-04\n",
      "Epoch 25/50\n",
      "75/75 [==============================] - 4s 52ms/step - loss: 1.0407e-04\n",
      "Epoch 26/50\n",
      "75/75 [==============================] - 4s 52ms/step - loss: 1.1080e-04\n",
      "Epoch 27/50\n",
      "75/75 [==============================] - 3s 42ms/step - loss: 9.9746e-05\n",
      "Epoch 28/50\n",
      "75/75 [==============================] - 4s 51ms/step - loss: 9.5675e-05\n",
      "Epoch 29/50\n",
      "75/75 [==============================] - 4s 57ms/step - loss: 9.8953e-05\n",
      "Epoch 30/50\n",
      "75/75 [==============================] - 3s 43ms/step - loss: 9.8149e-05\n",
      "Epoch 31/50\n",
      "75/75 [==============================] - 4s 52ms/step - loss: 8.8544e-05\n",
      "Epoch 32/50\n",
      "75/75 [==============================] - 5s 61ms/step - loss: 9.8989e-05\n",
      "Epoch 33/50\n",
      "75/75 [==============================] - 4s 53ms/step - loss: 9.5868e-05\n",
      "Epoch 34/50\n",
      "75/75 [==============================] - 5s 66ms/step - loss: 8.7528e-05\n",
      "Epoch 35/50\n",
      "75/75 [==============================] - 3s 46ms/step - loss: 8.6054e-05\n",
      "Epoch 36/50\n",
      "75/75 [==============================] - 4s 55ms/step - loss: 8.9418e-05\n",
      "Epoch 37/50\n",
      "75/75 [==============================] - 5s 67ms/step - loss: 8.0474e-05\n",
      "Epoch 38/50\n",
      "75/75 [==============================] - 4s 50ms/step - loss: 8.2273e-05\n",
      "Epoch 39/50\n",
      "75/75 [==============================] - 5s 68ms/step - loss: 7.4287e-05\n",
      "Epoch 40/50\n",
      "75/75 [==============================] - 6s 75ms/step - loss: 7.8627e-05\n",
      "Epoch 41/50\n",
      "75/75 [==============================] - 6s 74ms/step - loss: 7.6308e-05\n",
      "Epoch 42/50\n",
      "75/75 [==============================] - 3s 46ms/step - loss: 7.9919e-05\n",
      "Epoch 43/50\n",
      "75/75 [==============================] - 5s 72ms/step - loss: 7.4369e-05\n",
      "Epoch 44/50\n",
      "75/75 [==============================] - 6s 79ms/step - loss: 7.7410e-05\n",
      "Epoch 45/50\n",
      "75/75 [==============================] - 5s 63ms/step - loss: 6.9150e-05\n",
      "Epoch 46/50\n",
      "75/75 [==============================] - 4s 54ms/step - loss: 6.7877e-05\n",
      "Epoch 47/50\n",
      "75/75 [==============================] - 5s 73ms/step - loss: 8.1413e-05\n",
      "Epoch 48/50\n",
      "75/75 [==============================] - 6s 80ms/step - loss: 6.5082e-05\n",
      "Epoch 49/50\n",
      "75/75 [==============================] - 5s 61ms/step - loss: 6.8725e-05\n",
      "Epoch 50/50\n",
      "75/75 [==============================] - 4s 58ms/step - loss: 6.8436e-05\n"
     ]
    },
    {
     "data": {
      "text/plain": [
       "<keras.src.callbacks.History at 0x1f1f4585240>"
      ]
     },
     "execution_count": 31,
     "metadata": {},
     "output_type": "execute_result"
    }
   ],
   "source": [
    "# Melatih model\n",
    "model.fit(train_X, train_Y, epochs=50, batch_size=32)"
   ]
  },
  {
   "cell_type": "code",
   "execution_count": 32,
   "id": "5ee03cce-61bd-4a79-b23e-e2c171123a30",
   "metadata": {},
   "outputs": [
    {
     "name": "stdout",
     "output_type": "stream",
     "text": [
      "19/19 [==============================] - 0s 10ms/step\n"
     ]
    }
   ],
   "source": [
    "# Memprediksi harga saham menggunakan model yang sudah dilatih\n",
    "predicted = model.predict(test_X)\n",
    "predicted = scaler.inverse_transform(predicted)"
   ]
  },
  {
   "cell_type": "code",
   "execution_count": 33,
   "id": "6736d442-454d-4cb8-bdd2-2a79c62739e8",
   "metadata": {},
   "outputs": [
    {
     "data": {
      "image/png": "[encoded data removed]",
      "text/plain": [
       "<Figure size 640x480 with 1 Axes>"
      ]
     },
     "metadata": {},
     "output_type": "display_data"
    }
   ],
   "source": [
    "# Menampilkan plot hasil prediksi\n",
    "plt.plot(scaler.inverse_transform(test_Y.reshape(-1, 1)), label='Actual')\n",
    "plt.plot(predicted, label='Predicted')\n",
    "plt.legend()\n",
    "plt.show()"
   ]
  },
  {
   "cell_type": "code",
   "execution_count": 34,
   "id": "518a1f23-2d33-4069-963a-6d1f586716cb",
   "metadata": {},
   "outputs": [
    {
     "name": "stdout",
     "output_type": "stream",
     "text": [
      "Train Score: 0.00006121 MSE (0.00782394 RMSE)\n",
      "Test Score: 0.00011201 MSE (0.01058343 RMSE)\n"
     ]
    }
   ],
   "source": [
    "trainScore = model.evaluate(train_X, train_Y, verbose=0)\n",
    "print('Train Score: %.8f MSE (%.8f RMSE)' % (trainScore, math.sqrt(trainScore)))\n",
    "\n",
    "testScore = model.evaluate(test_X, test_Y, verbose=0)\n",
    "print('Test Score: %.8f MSE (%.8f RMSE)' % (testScore, math.sqrt(testScore)))"
   ]
  },
  {
   "cell_type": "code",
   "execution_count": 35,
   "id": "1ba01884-458d-498a-9c25-034b3a014e32",
   "metadata": {},
   "outputs": [
    {
     "name": "stdout",
     "output_type": "stream",
     "text": [
      "19/19 [==============================] - 0s 13ms/step - loss: 1.1201e-04\n",
      "Evaluation Score: 0.00011200905282748863\n"
     ]
    }
   ],
   "source": [
    "evaluation_score = model.evaluate(test_X, test_Y)\n",
    "print('Evaluation Score:', evaluation_score)"
   ]
  },
  {
   "cell_type": "markdown",
   "id": "4acdface-1b69-4fde-be20-fa19b260dbef",
   "metadata": {},
   "source": [
    "* Berdasarkan visualisasi yang telah dilakukan diketahui bahwa harga saha mengalami peningkatan secara keseluruhan dari tahun 2006 sampai 2017\n",
    "* Pada tahun 2008 sampai sekitar tahun 2009 harga saham mengalami penurunan karen pada masa tersebut terjadinya krisis ekonomi dunia pada tahun 2008.\n",
    "* Pada case ini menggunakan model LSTM(ong Short-Term Memory).\n",
    "* Model di evaluasi dengan menggunakan RMSE evaluation dan prediction plot.\n",
    "* Dari hasil Evaluasi dapat dilihat bahwan Nilai RMSE yang diperoleh kecil baik pada dataset train dan dataset test.\n",
    "* Nilai Evaluation Score pada prediction plot juga diperoleh kecil hal ini manandakan bahwa model memiliki kinerja yang baik karena tinggkat kesalahannya kecil."
   ]
  },
  {
   "cell_type": "code",
   "execution_count": null,
   "id": "5e30f9ba-da98-4314-bef8-f1b65a4467e8",
   "metadata": {},
   "outputs": [],
   "source": []
  }
 ],
 "metadata": {
  "kernelspec": {
   "display_name": "Python 3 (ipykernel)",
   "language": "python",
   "name": "python3"
  },
  "language_info": {
   "codemirror_mode": {
    "name": "ipython",
    "version": 3
   },
   "file_extension": ".py",
   "mimetype": "text/x-python",
   "name": "python",
   "nbconvert_exporter": "python",
   "pygments_lexer": "ipython3",
   "version": "3.10.11"
  }
 },
 "nbformat": 4,
 "nbformat_minor": 5
}
